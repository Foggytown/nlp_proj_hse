{
 "cells": [
  {
   "cell_type": "markdown",
   "metadata": {
    "id": "ULbCuaDmDczF"
   },
   "source": [
    "# Задача определения частей речи, Part-Of-Speech Tagger (POS) (10 баллов)"
   ]
  },
  {
   "cell_type": "markdown",
   "metadata": {
    "id": "PsOJVk-5Di1a"
   },
   "source": [
    "Мы будем решать задачу определения частей речи (POS-теггинга)."
   ]
  },
  {
   "cell_type": "code",
   "execution_count": 1,
   "metadata": {
    "id": "-IjDxsorDY1r"
   },
   "outputs": [],
   "source": [
    "import nltk\n",
    "import pandas as pd\n",
    "import numpy as np\n",
    "from nltk.corpus import brown\n",
    "import matplotlib.pyplot as plt\n",
    "from collections import Counter"
   ]
  },
  {
   "cell_type": "markdown",
   "metadata": {
    "id": "-KROzo8fDmCn"
   },
   "source": [
    "Чтобы решить задание, почитайте http://www.nltk.org/book/"
   ]
  },
  {
   "cell_type": "markdown",
   "metadata": {
    "id": "sP3e1DWfDt-5"
   },
   "source": [
    "Загрузим brown корпус"
   ]
  },
  {
   "cell_type": "code",
   "execution_count": 2,
   "metadata": {
    "colab": {
     "base_uri": "https://localhost:8080/"
    },
    "id": "8dg4QaXXDvd6",
    "outputId": "bc7070ea-21b7-4bd3-c19f-d5473d67bdd7"
   },
   "outputs": [
    {
     "name": "stderr",
     "output_type": "stream",
     "text": [
      "[nltk_data] Downloading package brown to\n",
      "[nltk_data]     C:\\Users\\Fyodor\\AppData\\Roaming\\nltk_data...\n",
      "[nltk_data]   Unzipping corpora\\brown.zip.\n"
     ]
    },
    {
     "data": {
      "text/plain": [
       "True"
      ]
     },
     "execution_count": 2,
     "metadata": {},
     "output_type": "execute_result"
    }
   ],
   "source": [
    "nltk.download('brown')"
   ]
  },
  {
   "cell_type": "markdown",
   "metadata": {
    "id": "kAOrp0MODyOu"
   },
   "source": [
    "<b>Существует не одна система тегирования, поэтому будьте внимательны, когда прогнозируете тег слов в тексте и вычисляете качество прогноза. Можете получить несправедливо низкое качество вашего решения."
   ]
  },
  {
   "cell_type": "markdown",
   "metadata": {
    "id": "bTVtNR_dD1VI"
   },
   "source": [
    "Cейчас будем использовать универсальную систему тегирования universal_tagset"
   ]
  },
  {
   "cell_type": "code",
   "execution_count": 3,
   "metadata": {
    "colab": {
     "base_uri": "https://localhost:8080/"
    },
    "id": "dvUAKCRZD3bX",
    "outputId": "2fb74421-f0f5-49f9-84ff-fe01cde583e2"
   },
   "outputs": [
    {
     "name": "stderr",
     "output_type": "stream",
     "text": [
      "[nltk_data] Downloading package universal_tagset to\n",
      "[nltk_data]     C:\\Users\\Fyodor\\AppData\\Roaming\\nltk_data...\n",
      "[nltk_data]   Unzipping taggers\\universal_tagset.zip.\n"
     ]
    },
    {
     "data": {
      "text/plain": [
       "True"
      ]
     },
     "execution_count": 3,
     "metadata": {},
     "output_type": "execute_result"
    }
   ],
   "source": [
    "nltk.download('universal_tagset')"
   ]
  },
  {
   "cell_type": "markdown",
   "metadata": {
    "id": "pbZDjq5wD9tr"
   },
   "source": [
    "Мы имеем массив предложений пар (слово-тег)"
   ]
  },
  {
   "cell_type": "code",
   "execution_count": 4,
   "metadata": {
    "colab": {
     "base_uri": "https://localhost:8080/"
    },
    "id": "aawxvOy1D_CR",
    "outputId": "ec402958-a4de-4326-e592-ac3624a7908b"
   },
   "outputs": [
    {
     "data": {
      "text/plain": [
       "[[('The', 'DET'), ('Fulton', 'NOUN'), ('County', 'NOUN'), ('Grand', 'ADJ'), ('Jury', 'NOUN'), ('said', 'VERB'), ('Friday', 'NOUN'), ('an', 'DET'), ('investigation', 'NOUN'), ('of', 'ADP'), (\"Atlanta's\", 'NOUN'), ('recent', 'ADJ'), ('primary', 'NOUN'), ('election', 'NOUN'), ('produced', 'VERB'), ('``', '.'), ('no', 'DET'), ('evidence', 'NOUN'), (\"''\", '.'), ('that', 'ADP'), ('any', 'DET'), ('irregularities', 'NOUN'), ('took', 'VERB'), ('place', 'NOUN'), ('.', '.')], [('The', 'DET'), ('jury', 'NOUN'), ('further', 'ADV'), ('said', 'VERB'), ('in', 'ADP'), ('term-end', 'NOUN'), ('presentments', 'NOUN'), ('that', 'ADP'), ('the', 'DET'), ('City', 'NOUN'), ('Executive', 'ADJ'), ('Committee', 'NOUN'), (',', '.'), ('which', 'DET'), ('had', 'VERB'), ('over-all', 'ADJ'), ('charge', 'NOUN'), ('of', 'ADP'), ('the', 'DET'), ('election', 'NOUN'), (',', '.'), ('``', '.'), ('deserves', 'VERB'), ('the', 'DET'), ('praise', 'NOUN'), ('and', 'CONJ'), ('thanks', 'NOUN'), ('of', 'ADP'), ('the', 'DET'), ('City', 'NOUN'), ('of', 'ADP'), ('Atlanta', 'NOUN'), (\"''\", '.'), ('for', 'ADP'), ('the', 'DET'), ('manner', 'NOUN'), ('in', 'ADP'), ('which', 'DET'), ('the', 'DET'), ('election', 'NOUN'), ('was', 'VERB'), ('conducted', 'VERB'), ('.', '.')], ...]"
      ]
     },
     "execution_count": 4,
     "metadata": {},
     "output_type": "execute_result"
    }
   ],
   "source": [
    "brown_tagged_sents = brown.tagged_sents(tagset=\"universal\")\n",
    "brown_tagged_sents"
   ]
  },
  {
   "cell_type": "markdown",
   "metadata": {
    "id": "vLEzOkB7EBXL"
   },
   "source": [
    "Первое предложение"
   ]
  },
  {
   "cell_type": "code",
   "execution_count": 5,
   "metadata": {
    "colab": {
     "base_uri": "https://localhost:8080/"
    },
    "id": "w46umy3rECrj",
    "outputId": "8b286ec3-1ab6-464e-ec8c-b2f004483d1f"
   },
   "outputs": [
    {
     "data": {
      "text/plain": [
       "[('The', 'DET'),\n",
       " ('Fulton', 'NOUN'),\n",
       " ('County', 'NOUN'),\n",
       " ('Grand', 'ADJ'),\n",
       " ('Jury', 'NOUN'),\n",
       " ('said', 'VERB'),\n",
       " ('Friday', 'NOUN'),\n",
       " ('an', 'DET'),\n",
       " ('investigation', 'NOUN'),\n",
       " ('of', 'ADP'),\n",
       " (\"Atlanta's\", 'NOUN'),\n",
       " ('recent', 'ADJ'),\n",
       " ('primary', 'NOUN'),\n",
       " ('election', 'NOUN'),\n",
       " ('produced', 'VERB'),\n",
       " ('``', '.'),\n",
       " ('no', 'DET'),\n",
       " ('evidence', 'NOUN'),\n",
       " (\"''\", '.'),\n",
       " ('that', 'ADP'),\n",
       " ('any', 'DET'),\n",
       " ('irregularities', 'NOUN'),\n",
       " ('took', 'VERB'),\n",
       " ('place', 'NOUN'),\n",
       " ('.', '.')]"
      ]
     },
     "execution_count": 5,
     "metadata": {},
     "output_type": "execute_result"
    }
   ],
   "source": [
    "brown_tagged_sents[0]"
   ]
  },
  {
   "cell_type": "markdown",
   "metadata": {
    "id": "n7orRdReEFfC"
   },
   "source": [
    "Все пары (слово-тег)"
   ]
  },
  {
   "cell_type": "code",
   "execution_count": 6,
   "metadata": {
    "colab": {
     "base_uri": "https://localhost:8080/"
    },
    "id": "HTeNfM4UEHEK",
    "outputId": "9d2bffed-675c-4ab5-d7a7-a031d33fd876"
   },
   "outputs": [
    {
     "data": {
      "text/plain": [
       "[('The', 'DET'), ('Fulton', 'NOUN'), ...]"
      ]
     },
     "execution_count": 6,
     "metadata": {},
     "output_type": "execute_result"
    }
   ],
   "source": [
    "brown_tagged_words = brown.tagged_words(tagset='universal')\n",
    "brown_tagged_words"
   ]
  },
  {
   "cell_type": "markdown",
   "metadata": {
    "id": "P65LtzQlEI_R"
   },
   "source": [
    "Проанализируйте данные, с которыми Вы работаете. Используйте `nltk.FreqDist()` для подсчета частоты встречаемости тега и слова в нашем корпусе. Под частой элемента подразумевается кол-во этого элемента в корпусе."
   ]
  },
  {
   "cell_type": "code",
   "execution_count": 7,
   "metadata": {
    "id": "HAGw2PQHEM7P"
   },
   "outputs": [],
   "source": [
    "# Приведем слова к нижнему регистру\n",
    "brown_tagged_words = list(map(lambda x: (x[0].lower(), x[1]), brown_tagged_words))"
   ]
  },
  {
   "cell_type": "code",
   "execution_count": 8,
   "metadata": {
    "colab": {
     "base_uri": "https://localhost:8080/"
    },
    "id": "Fj3OCfjbEOIP",
    "outputId": "29904423-e544-4b4d-91e6-593a4fbe5650"
   },
   "outputs": [
    {
     "name": "stdout",
     "output_type": "stream",
     "text": [
      "Кол-во предложений:  57340\n"
     ]
    }
   ],
   "source": [
    "print('Кол-во предложений: ', len(brown_tagged_sents))\n",
    "tags = [tag for (word, tag) in brown_tagged_words] # наши теги\n",
    "words = [word for (word, tag) in brown_tagged_words] # наши слова\n",
    "\n",
    "tag_num = pd.Series(Counter(tags)).sort_values(ascending=False) # тег - кол-во тега в корпусе\n",
    "word_num = pd.Series(Counter(words)).sort_values(ascending=False) # слово - кол-во слова в корпусе"
   ]
  },
  {
   "cell_type": "code",
   "execution_count": 9,
   "metadata": {
    "colab": {
     "base_uri": "https://localhost:8080/"
    },
    "id": "3uD-zPn4EPrG",
    "outputId": "8541a7b4-a3aa-4ae2-a6b6-38bad7039d36"
   },
   "outputs": [
    {
     "data": {
      "text/plain": [
       "NOUN    275558\n",
       "VERB    182750\n",
       ".       147565\n",
       "ADP     144766\n",
       "DET     137019\n",
       "ADJ      83721\n",
       "ADV      56239\n",
       "PRON     49334\n",
       "CONJ     38151\n",
       "PRT      29829\n",
       "NUM      14874\n",
       "X         1386\n",
       "dtype: int64"
      ]
     },
     "execution_count": 9,
     "metadata": {},
     "output_type": "execute_result"
    }
   ],
   "source": [
    "tag_num"
   ]
  },
  {
   "cell_type": "code",
   "execution_count": 10,
   "metadata": {
    "colab": {
     "base_uri": "https://localhost:8080/",
     "height": 468
    },
    "id": "Dd7DxcmUEQ5g",
    "outputId": "64701859-6683-4374-a4d0-fb3bc73041fd"
   },
   "outputs": [
    {
     "data": {
      "image/png": "[encoded data removed]",
      "text/plain": [
       "<Figure size 864x360 with 1 Axes>"
      ]
     },
     "metadata": {
      "needs_background": "light"
     },
     "output_type": "display_data"
    }
   ],
   "source": [
    "plt.figure(figsize=(12, 5))\n",
    "plt.bar(tag_num.index, tag_num.values)\n",
    "plt.title(\"Tag_frequency\")\n",
    "plt.show()"
   ]
  },
  {
   "cell_type": "code",
   "execution_count": 11,
   "metadata": {
    "colab": {
     "base_uri": "https://localhost:8080/"
    },
    "id": "S0AbxAS3ESX2",
    "outputId": "87595bfb-6073-45d2-bbbf-1e90a6ac6534"
   },
   "outputs": [
    {
     "data": {
      "text/plain": [
       "the    69971\n",
       ",      58334\n",
       ".      49346\n",
       "of     36412\n",
       "and    28853\n",
       "dtype: int64"
      ]
     },
     "execution_count": 11,
     "metadata": {},
     "output_type": "execute_result"
    }
   ],
   "source": [
    "word_num[:5]"
   ]
  },
  {
   "cell_type": "code",
   "execution_count": 12,
   "metadata": {
    "colab": {
     "base_uri": "https://localhost:8080/",
     "height": 468
    },
    "id": "z8qjrT_tETb_",
    "outputId": "0f184f69-b6e4-4d24-f455-20175fa0966e"
   },
   "outputs": [
    {
     "data": {
      "image/png": "[encoded data removed]",
      "text/plain": [
       "<Figure size 864x360 with 1 Axes>"
      ]
     },
     "metadata": {
      "needs_background": "light"
     },
     "output_type": "display_data"
    }
   ],
   "source": [
    "plt.figure(figsize=(12, 5))\n",
    "plt.bar(word_num.index[:10], word_num.values[:10])\n",
    "plt.title(\"Word_frequency\")\n",
    "plt.show()"
   ]
  },
  {
   "cell_type": "markdown",
   "metadata": {
    "id": "O994VhA_EMfj"
   },
   "source": [
    "### Вопрос 1:\n",
    "* Кол-во слова `cat` в корпусе? **(0.5 балл)**"
   ]
  },
  {
   "cell_type": "code",
   "execution_count": 13,
   "metadata": {
    "colab": {
     "base_uri": "https://localhost:8080/"
    },
    "id": "uEc4ehy8EXMp",
    "outputId": "2113a306-e4e6-48b1-d060-ecd291004e4d"
   },
   "outputs": [
    {
     "data": {
      "text/plain": [
       "23"
      ]
     },
     "execution_count": 13,
     "metadata": {},
     "output_type": "execute_result"
    }
   ],
   "source": [
    "word_num['cat']"
   ]
  },
  {
   "cell_type": "markdown",
   "metadata": {
    "id": "zo0d6XF0EY6X"
   },
   "source": [
    "### Вопрос 2:\n",
    "* Самое популярное слово с самым популярным тегом? **(0.5 балл)**\n"
   ]
  },
  {
   "cell_type": "code",
   "execution_count": 14,
   "metadata": {
    "colab": {
     "base_uri": "https://localhost:8080/",
     "height": 191
    },
    "id": "VrlyXIqVEdDp",
    "outputId": "688e141a-8b45-4aeb-b550-5bdf76ba6bb0"
   },
   "outputs": [
    {
     "name": "stdout",
     "output_type": "stream",
     "text": [
      "NOUN fulton\n",
      "NOUN county\n",
      "NOUN evidence\n",
      "NOUN place\n",
      "NOUN state\n",
      "NOUN man\n",
      "NOUN time\n",
      "NOUN a\n",
      "NOUN to\n"
     ]
    },
    {
     "data": {
      "text/plain": [
       "'to'"
      ]
     },
     "execution_count": 14,
     "metadata": {},
     "output_type": "execute_result"
    }
   ],
   "source": [
    "# Выбираем сначала слова с самым популярным тегом, а затем среди них выбираем самое популярное слово.\n",
    "maxi=-1\n",
    "save=0\n",
    "for (word, tag) in brown_tagged_words:\n",
    "  if tag==tag_num.index[0]:\n",
    "    if word_num[word]>maxi:\n",
    "      maxi=word_num[word]\n",
    "      save=word\n",
    "      print(tag, word)\n",
    "save"
   ]
  },
  {
   "cell_type": "code",
   "execution_count": 15,
   "metadata": {
    "colab": {
     "base_uri": "https://localhost:8080/",
     "height": 35
    },
    "id": "oPZlg4o0OKKO",
    "outputId": "f026241f-4bc8-4227-abb4-ea0440ca4655"
   },
   "outputs": [
    {
     "data": {
      "text/plain": [
       "'NOUN'"
      ]
     },
     "execution_count": 15,
     "metadata": {},
     "output_type": "execute_result"
    }
   ],
   "source": [
    "# why 'to' has tag noun?(\n",
    "tag_num.index[0]"
   ]
  },
  {
   "cell_type": "markdown",
   "metadata": {
    "id": "NACQZOnfEbrU"
   },
   "source": [
    "Cделайте разбиение выборки на обучение и контроль в отношении 9:1. **(0.5 балл)**"
   ]
  },
  {
   "cell_type": "code",
   "execution_count": 16,
   "metadata": {
    "colab": {
     "base_uri": "https://localhost:8080/"
    },
    "id": "BbM3Ik2mEiJs",
    "outputId": "74520044-9832-4e1a-abe0-7bea5ffba5bf"
   },
   "outputs": [
    {
     "name": "stderr",
     "output_type": "stream",
     "text": [
      "C:\\Users\\Fyodor\\AppData\\Local\\Temp/ipykernel_13760/2317528879.py:6: VisibleDeprecationWarning: Creating an ndarray from ragged nested sequences (which is a list-or-tuple of lists-or-tuples-or ndarrays with different lengths or shapes) is deprecated. If you meant to do this, you must specify 'dtype=object' when creating the ndarray.\n",
      "  my_brown_tagged_sents = np.array(my_brown_tagged_sents)\n"
     ]
    }
   ],
   "source": [
    "brown_tagged_sents = brown.tagged_sents(tagset=\"universal\")\n",
    "# Приведем слова к нижнему регистру\n",
    "my_brown_tagged_sents = []\n",
    "for sent in brown_tagged_sents:\n",
    "    my_brown_tagged_sents.append(list(map(lambda x: (x[0].lower(), x[1]), sent)))\n",
    "my_brown_tagged_sents = np.array(my_brown_tagged_sents)\n",
    "\n",
    "from sklearn.model_selection import train_test_split\n",
    "train_sents, test_sents = train_test_split(my_brown_tagged_sents, train_size=0.9, random_state=0,)"
   ]
  },
  {
   "cell_type": "code",
   "execution_count": 17,
   "metadata": {
    "colab": {
     "base_uri": "https://localhost:8080/"
    },
    "id": "z98sY1k5EjpZ",
    "outputId": "00d55e51-ed8a-4b25-f91e-da94cc5828d3"
   },
   "outputs": [
    {
     "data": {
      "text/plain": [
       "(51606, 5734)"
      ]
     },
     "execution_count": 17,
     "metadata": {},
     "output_type": "execute_result"
    }
   ],
   "source": [
    "len(train_sents), len(test_sents)"
   ]
  },
  {
   "cell_type": "markdown",
   "metadata": {
    "id": "MKvUkYYmEmWl"
   },
   "source": [
    "## DefaultTagger"
   ]
  },
  {
   "cell_type": "markdown",
   "metadata": {
    "id": "lmddv5oBEoAu"
   },
   "source": [
    "### Вопрос 3:\n",
    "* Какое качество вы бы получили, если бы предсказывали любой тег, как самый популярный тег на выборке train(округлите до одного знака после запятой)? **(0.5 балл)**"
   ]
  },
  {
   "cell_type": "markdown",
   "metadata": {
    "id": "rzpMy0pnEqdm"
   },
   "source": [
    "Вы можете использовать DefaultTagger(метод tag для предсказания частей речи предложения)."
   ]
  },
  {
   "cell_type": "code",
   "execution_count": 18,
   "metadata": {
    "id": "F-N1FQ4OEroJ"
   },
   "outputs": [],
   "source": [
    "from nltk.tag import DefaultTagger\n",
    "default_tagger = DefaultTagger(tag_num.index[0])"
   ]
  },
  {
   "cell_type": "code",
   "execution_count": 19,
   "metadata": {
    "colab": {
     "base_uri": "https://localhost:8080/"
    },
    "id": "cic19b1GEsju",
    "outputId": "3e5a0fb2-c144-445b-a404-047797241b70"
   },
   "outputs": [
    {
     "name": "stdout",
     "output_type": "stream",
     "text": [
      "Accuracy: 23.47521651004238 %\n"
     ]
    }
   ],
   "source": [
    "true_pred = 0\n",
    "num_pred = 0\n",
    "\n",
    "for sent in test_sents:\n",
    "    tags = np.array([tag for (word, tag) in sent])\n",
    "    words = np.array([word for (word, tag) in sent])\n",
    "\n",
    "    tagged_sent = default_tagger.tag(words)\n",
    "    outputs = [tag for token, tag in tagged_sent]\n",
    "\n",
    "    true_now=0\n",
    "    for i in range(len(tags)):\n",
    "      true_now+=(tags[i]==outputs[i])\n",
    "\n",
    "    true_pred += true_now\n",
    "    num_pred += len(words)\n",
    "\n",
    "print(\"Accuracy:\", true_pred / num_pred * 100, '%')"
   ]
  },
  {
   "cell_type": "markdown",
   "metadata": {
    "id": "Z20APPI3ZUBF"
   },
   "source": [
    "Ответ 23.5%"
   ]
  },
  {
   "cell_type": "markdown",
   "metadata": {
    "id": "qCeRNR9YEuoc"
   },
   "source": [
    "## LSTMTagger"
   ]
  },
  {
   "cell_type": "markdown",
   "metadata": {
    "id": "3MnP45S9EwhJ"
   },
   "source": [
    "### Подготовка данных"
   ]
  },
  {
   "cell_type": "markdown",
   "metadata": {
    "id": "y26dX5UfEyB8"
   },
   "source": [
    "Изменим структуру данных"
   ]
  },
  {
   "cell_type": "code",
   "execution_count": 20,
   "metadata": {
    "colab": {
     "base_uri": "https://localhost:8080/"
    },
    "id": "0G_svM_vEzNd",
    "outputId": "9c8005e3-1f83-4331-8449-3716aab31e16"
   },
   "outputs": [
    {
     "name": "stdout",
     "output_type": "stream",
     "text": [
      "[('The', 'Fulton', 'County', 'Grand', 'Jury', 'said', 'Friday', 'an', 'investigation', 'of', \"Atlanta's\", 'recent', 'primary', 'election', 'produced', '``', 'no', 'evidence', \"''\", 'that', 'any', 'irregularities', 'took', 'place', '.'), ('DET', 'NOUN', 'NOUN', 'ADJ', 'NOUN', 'VERB', 'NOUN', 'DET', 'NOUN', 'ADP', 'NOUN', 'ADJ', 'NOUN', 'NOUN', 'VERB', '.', 'DET', 'NOUN', '.', 'ADP', 'DET', 'NOUN', 'VERB', 'NOUN', '.')]\n"
     ]
    }
   ],
   "source": [
    "pos_data = [list(zip(*sent)) for sent in brown_tagged_sents]\n",
    "print(pos_data[0])"
   ]
  },
  {
   "cell_type": "markdown",
   "metadata": {
    "id": "edtdfyMOE0s7"
   },
   "source": [
    "Используем pytorch"
   ]
  },
  {
   "cell_type": "code",
   "execution_count": 21,
   "metadata": {
    "colab": {
     "base_uri": "https://localhost:8080/"
    },
    "id": "Vjevzjr0Z5fQ",
    "outputId": "61e592ec-540d-44c0-c808-8812be5283a0"
   },
   "outputs": [
    {
     "name": "stderr",
     "output_type": "stream",
     "text": [
      "WARNING: Skipping torchtext as it is not installed.\n"
     ]
    },
    {
     "name": "stdout",
     "output_type": "stream",
     "text": [
      "Collecting torchtext==0.6.0\n",
      "  Downloading torchtext-0.6.0-py3-none-any.whl (64 kB)\n",
      "     -------------------------------------- 64.2/64.2 kB 691.7 kB/s eta 0:00:00\n",
      "Requirement already satisfied: tqdm in c:\\users\\fyodor\\appdata\\local\\programs\\python\\python39\\lib\\site-packages (from torchtext==0.6.0) (4.62.3)\n",
      "Requirement already satisfied: requests in c:\\users\\fyodor\\appdata\\local\\programs\\python\\python39\\lib\\site-packages (from torchtext==0.6.0) (2.26.0)\n",
      "Requirement already satisfied: torch in c:\\users\\fyodor\\appdata\\local\\programs\\python\\python39\\lib\\site-packages (from torchtext==0.6.0) (2.0.1)\n",
      "Requirement already satisfied: numpy in c:\\users\\fyodor\\appdata\\local\\programs\\python\\python39\\lib\\site-packages (from torchtext==0.6.0) (1.21.4)\n",
      "Requirement already satisfied: six in c:\\users\\fyodor\\appdata\\local\\programs\\python\\python39\\lib\\site-packages (from torchtext==0.6.0) (1.16.0)\n",
      "Requirement already satisfied: sentencepiece in c:\\users\\fyodor\\appdata\\local\\programs\\python\\python39\\lib\\site-packages (from torchtext==0.6.0) (0.1.99)\n",
      "Requirement already satisfied: urllib3<1.27,>=1.21.1 in c:\\users\\fyodor\\appdata\\local\\programs\\python\\python39\\lib\\site-packages (from requests->torchtext==0.6.0) (1.26.6)\n",
      "Requirement already satisfied: certifi>=2017.4.17 in c:\\users\\fyodor\\appdata\\local\\programs\\python\\python39\\lib\\site-packages (from requests->torchtext==0.6.0) (2022.9.14)\n",
      "Requirement already satisfied: charset-normalizer~=2.0.0 in c:\\users\\fyodor\\appdata\\local\\programs\\python\\python39\\lib\\site-packages (from requests->torchtext==0.6.0) (2.0.4)\n",
      "Requirement already satisfied: idna<4,>=2.5 in c:\\users\\fyodor\\appdata\\local\\programs\\python\\python39\\lib\\site-packages (from requests->torchtext==0.6.0) (3.2)\n",
      "Requirement already satisfied: filelock in c:\\users\\fyodor\\appdata\\local\\programs\\python\\python39\\lib\\site-packages (from torch->torchtext==0.6.0) (3.12.2)\n",
      "Requirement already satisfied: typing-extensions in c:\\users\\fyodor\\appdata\\local\\programs\\python\\python39\\lib\\site-packages (from torch->torchtext==0.6.0) (4.4.0)\n",
      "Requirement already satisfied: sympy in c:\\users\\fyodor\\appdata\\local\\programs\\python\\python39\\lib\\site-packages (from torch->torchtext==0.6.0) (1.12)\n",
      "Requirement already satisfied: networkx in c:\\users\\fyodor\\appdata\\local\\programs\\python\\python39\\lib\\site-packages (from torch->torchtext==0.6.0) (3.1)\n",
      "Requirement already satisfied: jinja2 in c:\\users\\fyodor\\appdata\\local\\programs\\python\\python39\\lib\\site-packages (from torch->torchtext==0.6.0) (3.0.1)\n",
      "Requirement already satisfied: colorama in c:\\users\\fyodor\\appdata\\roaming\\python\\python39\\site-packages (from tqdm->torchtext==0.6.0) (0.4.5)\n",
      "Requirement already satisfied: MarkupSafe>=2.0 in c:\\users\\fyodor\\appdata\\local\\programs\\python\\python39\\lib\\site-packages (from jinja2->torch->torchtext==0.6.0) (2.0.1)\n",
      "Requirement already satisfied: mpmath>=0.19 in c:\\users\\fyodor\\appdata\\local\\programs\\python\\python39\\lib\\site-packages (from sympy->torch->torchtext==0.6.0) (1.3.0)\n",
      "Installing collected packages: torchtext\n",
      "Successfully installed torchtext-0.6.0\n"
     ]
    }
   ],
   "source": [
    "!pip uninstall torchtext\n",
    "!pip install torchtext==0.6.0"
   ]
  },
  {
   "cell_type": "code",
   "execution_count": 22,
   "metadata": {
    "id": "lse6eIF8E3jT"
   },
   "outputs": [],
   "source": [
    "#thanks a lot for broken code)\n",
    "from torchtext.data import Field, BucketIterator\n",
    "import torchtext\n",
    "\n",
    "# наши поля\n",
    "WORD = Field(lower=True)\n",
    "TAG = Field(unk_token=None) # все токены нам извсетны\n",
    "\n",
    "# создаем примеры\n",
    "examples = []\n",
    "for words, tags in pos_data:\n",
    "    examples.append(torchtext.data.Example.fromlist([list(words), list(tags)], fields=[('words', WORD), ('tags', TAG)]))"
   ]
  },
  {
   "cell_type": "markdown",
   "metadata": {
    "id": "kaWj9v1KE6fN"
   },
   "source": [
    "Вот один пример:"
   ]
  },
  {
   "cell_type": "code",
   "execution_count": 23,
   "metadata": {
    "colab": {
     "base_uri": "https://localhost:8080/"
    },
    "id": "4U-j12pUE8Gw",
    "outputId": "c0660096-d8ac-4896-e34a-82ce5e7d5192"
   },
   "outputs": [
    {
     "name": "stdout",
     "output_type": "stream",
     "text": [
      "{'words': ['the', 'fulton', 'county', 'grand', 'jury', 'said', 'friday', 'an', 'investigation', 'of', \"atlanta's\", 'recent', 'primary', 'election', 'produced', '``', 'no', 'evidence', \"''\", 'that', 'any', 'irregularities', 'took', 'place', '.'], 'tags': ['DET', 'NOUN', 'NOUN', 'ADJ', 'NOUN', 'VERB', 'NOUN', 'DET', 'NOUN', 'ADP', 'NOUN', 'ADJ', 'NOUN', 'NOUN', 'VERB', '.', 'DET', 'NOUN', '.', 'ADP', 'DET', 'NOUN', 'VERB', 'NOUN', '.']}\n"
     ]
    }
   ],
   "source": [
    "print(vars(examples[0]))"
   ]
  },
  {
   "cell_type": "markdown",
   "metadata": {
    "id": "ql_rxZ2hE-NQ"
   },
   "source": [
    "Теперь формируем наш датасет"
   ]
  },
  {
   "cell_type": "code",
   "execution_count": 24,
   "metadata": {
    "colab": {
     "base_uri": "https://localhost:8080/"
    },
    "id": "oSz26JmFE_fp",
    "outputId": "90f9f147-d24e-4d53-a823-963bb318b690"
   },
   "outputs": [
    {
     "name": "stdout",
     "output_type": "stream",
     "text": [
      "Number of training examples: 45872\n",
      "Number of validation examples: 5734\n",
      "Number of testing examples: 5734\n"
     ]
    }
   ],
   "source": [
    "# кладем примеры в наш датасет\n",
    "dataset = torchtext.data.Dataset(examples, fields=[('words', WORD), ('tags', TAG)])\n",
    "\n",
    "train_data, valid_data, test_data = dataset.split(split_ratio=[0.8, 0.1, 0.1])\n",
    "\n",
    "print(f\"Number of training examples: {len(train_data.examples)}\")\n",
    "print(f\"Number of validation examples: {len(valid_data.examples)}\")\n",
    "print(f\"Number of testing examples: {len(test_data.examples)}\")"
   ]
  },
  {
   "cell_type": "markdown",
   "metadata": {
    "id": "tDIU85xhFBkk"
   },
   "source": [
    "Построим словари. Параметр `min_freq` выберете сами. При построении словаря испольузем только **train** **(0.5 балл)**"
   ]
  },
  {
   "cell_type": "code",
   "execution_count": 25,
   "metadata": {
    "colab": {
     "base_uri": "https://localhost:8080/"
    },
    "id": "v7y86zb_FDLy",
    "outputId": "274e944c-f01d-4437-bd59-dc92e35cf562"
   },
   "outputs": [
    {
     "name": "stdout",
     "output_type": "stream",
     "text": [
      "Unique tokens in source (ru) vocabulary: 12349\n",
      "Unique tokens in target (en) vocabulary: 13\n",
      "['<unk>', 'left', 'areas', 'looking', 'list', 'europe', 'project', 'features', 'procedure', 'sky', 'roof', 'throat', 'curious', 'writes', 'jane', 'removal', 'yield', 'chlorine', 'slave', 'dilemma', 'publicity', 'summary', 'acceptable', 'unlikely', 'startled', 'quarrel', 'iodine', 'client', 'sturdy', 'hanford', 'ambitious', 'media', 'bush', 'lyric', 'whoever', 'fighters', 'sizes', 'cellulose', 'irregular', 'sometime', 'catholicism', 'hypothetical', 'quo', '0.1', 'confederate', 'gaiety', 'municipalities', 'secretaries', \"york's\", 'cartoons', 'exchanged', 'librarians', 'pour', 'stint', '350', 'caesar', 'dissent', 'gland', 'lenses', 'physicist', 'sandman', 'totals']\n",
      "['<pad>', 'NOUN', 'VERB', '.', 'ADP', 'DET', 'ADJ', 'ADV', 'PRON', 'CONJ', 'PRT', 'NUM', 'X']\n"
     ]
    }
   ],
   "source": [
    "WORD.build_vocab(train_data, min_freq=5)\n",
    "TAG.build_vocab(train_data)\n",
    "\n",
    "print(f\"Unique tokens in source (ru) vocabulary: {len(WORD.vocab)}\")\n",
    "print(f\"Unique tokens in target (en) vocabulary: {len(TAG.vocab)}\")\n",
    "\n",
    "print(WORD.vocab.itos[::200])\n",
    "print(TAG.vocab.itos)"
   ]
  },
  {
   "cell_type": "markdown",
   "metadata": {
    "id": "wWHHpg7ZFFBy"
   },
   "source": [
    "Здесь вы увидете токен `unk` и `pad`. Первый служит для обозначения слов, которых у нас нет в словаре. Второй служит для того, что объекты в одном батче были одинакового размера."
   ]
  },
  {
   "cell_type": "code",
   "execution_count": 26,
   "metadata": {
    "colab": {
     "base_uri": "https://localhost:8080/"
    },
    "id": "da-NJsDZFG5R",
    "outputId": "cce4bf36-7fca-4f0b-d1e0-741a2790d37d"
   },
   "outputs": [
    {
     "name": "stdout",
     "output_type": "stream",
     "text": [
      "{'words': ['many', 'came', 'from', 'communist', 'countries', '.'], 'tags': ['ADJ', 'VERB', 'ADP', 'NOUN', 'NOUN', '.']}\n"
     ]
    }
   ],
   "source": [
    "print(vars(train_data.examples[9]))"
   ]
  },
  {
   "cell_type": "markdown",
   "metadata": {
    "id": "9lFhuFSxFGjG"
   },
   "source": [
    "Посмотрим с насколько большими предложениями мы имеем дело"
   ]
  },
  {
   "cell_type": "code",
   "execution_count": 27,
   "metadata": {
    "colab": {
     "base_uri": "https://localhost:8080/",
     "height": 391
    },
    "id": "SZ_MoUU-FKFZ",
    "outputId": "3eee2033-5089-42f1-b8e5-a0c8b990b19d"
   },
   "outputs": [
    {
     "data": {
      "image/png": "[encoded data removed]",
      "text/plain": [
       "<Figure size 576x288 with 1 Axes>"
      ]
     },
     "metadata": {
      "needs_background": "light"
     },
     "output_type": "display_data"
    }
   ],
   "source": [
    "length = map(len, [vars(x)['words'] for x in train_data.examples])\n",
    "\n",
    "plt.figure(figsize=[8, 4])\n",
    "plt.title(\"Length distribution in Train data\")\n",
    "plt.hist(list(length), bins=20);"
   ]
  },
  {
   "cell_type": "markdown",
   "metadata": {
    "id": "fXGyfB3CFMj1"
   },
   "source": [
    "Для обучения `LSTM` лучше использовать colab"
   ]
  },
  {
   "cell_type": "code",
   "execution_count": 28,
   "metadata": {
    "colab": {
     "base_uri": "https://localhost:8080/"
    },
    "id": "h4s5pvntFN2B",
    "outputId": "855c887d-c899-4918-89f0-f03b79383f77"
   },
   "outputs": [
    {
     "data": {
      "text/plain": [
       "device(type='cpu')"
      ]
     },
     "execution_count": 28,
     "metadata": {},
     "output_type": "execute_result"
    }
   ],
   "source": [
    "import torch\n",
    "from torch import nn\n",
    "import torch.nn.functional as F\n",
    "import torch.optim as optim\n",
    "\n",
    "device = torch.device('cuda' if torch.cuda.is_available() else 'cpu')\n",
    "device"
   ]
  },
  {
   "cell_type": "markdown",
   "metadata": {
    "id": "IBGcryIOFPUm"
   },
   "source": [
    "Для более быстрого и устойчивого обучения сгруппируем наши данные по батчам"
   ]
  },
  {
   "cell_type": "code",
   "execution_count": 29,
   "metadata": {
    "id": "WoG31J9LFRPM"
   },
   "outputs": [],
   "source": [
    "# бьем нашу выборку на батч, не забывая сначала отсортировать выборку по длине\n",
    "def _len_sort_key(x):\n",
    "    return len(x.words)\n",
    "\n",
    "BATCH_SIZE = 32\n",
    "\n",
    "train_iterator, valid_iterator, test_iterator = BucketIterator.splits(\n",
    "    (train_data, valid_data, test_data),\n",
    "    batch_size = BATCH_SIZE,\n",
    "    device = device,\n",
    "    sort_key=_len_sort_key\n",
    ")"
   ]
  },
  {
   "cell_type": "code",
   "execution_count": 30,
   "metadata": {
    "colab": {
     "base_uri": "https://localhost:8080/"
    },
    "id": "d8sS_kx-FScv",
    "outputId": "6a5debc3-5070-4f85-af0a-2f0c3043965b"
   },
   "outputs": [
    {
     "data": {
      "text/plain": [
       "[1434, 180, 180]"
      ]
     },
     "execution_count": 30,
     "metadata": {},
     "output_type": "execute_result"
    }
   ],
   "source": [
    "# посморим  на количество батчей\n",
    "list(map(len, [train_iterator, valid_iterator, test_iterator]))"
   ]
  },
  {
   "cell_type": "markdown",
   "metadata": {
    "id": "Fh9IjTSXFUYa"
   },
   "source": [
    "### Модель и её обучение"
   ]
  },
  {
   "cell_type": "markdown",
   "metadata": {
    "id": "TOCW_kx4FWrD"
   },
   "source": [
    "Инициализируем нашу модель. Прочитайте про dropout [тут](https://habr.com/ru/company/wunderfund/blog/330814/). **(3 балла)**"
   ]
  },
  {
   "cell_type": "code",
   "execution_count": 31,
   "metadata": {
    "colab": {
     "base_uri": "https://localhost:8080/"
    },
    "id": "2AOdspvVFbNI",
    "outputId": "b9bdf198-60a1-42b8-bfe0-f4cb7c05f1d8"
   },
   "outputs": [
    {
     "data": {
      "text/plain": [
       "LSTMTagger(\n",
       "  (embeddings): Embedding(12349, 25)\n",
       "  (dropout): Dropout(p=0.5, inplace=False)\n",
       "  (rnn): LSTM(25, 25)\n",
       "  (tag): Linear(in_features=25, out_features=13, bias=True)\n",
       ")"
      ]
     },
     "execution_count": 31,
     "metadata": {},
     "output_type": "execute_result"
    }
   ],
   "source": [
    "class LSTMTagger(nn.Module):\n",
    "\n",
    "    def __init__(self, input_dim, emb_dim, hid_dim, output_dim, dropout):\n",
    "        super().__init__()\n",
    "\n",
    "\n",
    "        self.embeddings = nn.Embedding(input_dim, hid_dim)\n",
    "        self.dropout = nn.Dropout(p=dropout)\n",
    "\n",
    "        self.rnn = nn.LSTM(input_size=hid_dim, hidden_size=hid_dim)\n",
    "        self.tag = nn.Linear(hid_dim, output_dim)\n",
    "\n",
    "    def forward(self, sent):\n",
    "\n",
    "        #sent = [sent len, batch size]\n",
    "\n",
    "        # не забываем применить dropout к embedding\n",
    "        embedded = self.dropout(self.embeddings(sent))\n",
    "\n",
    "        output, _ = self.rnn(embedded)\n",
    "        #output = [sent len, batch size, hid dim * n directions]\n",
    "\n",
    "        prediction = self.tag(output)\n",
    "\n",
    "        return prediction\n",
    "\n",
    "# параметры модели\n",
    "INPUT_DIM = len(WORD.vocab)\n",
    "OUTPUT_DIM = len(TAG.vocab)\n",
    "EMB_DIM = 50\n",
    "HID_DIM = 25\n",
    "DROPOUT = 0.5\n",
    "\n",
    "model = LSTMTagger(INPUT_DIM, EMB_DIM, HID_DIM, OUTPUT_DIM, DROPOUT).to(device)\n",
    "\n",
    "# инициализируем веса\n",
    "def init_weights(m):\n",
    "    for name, param in m.named_parameters():\n",
    "        nn.init.uniform_(param, -0.08, 0.08)\n",
    "\n",
    "model.apply(init_weights)"
   ]
  },
  {
   "cell_type": "markdown",
   "metadata": {
    "id": "40LeJJkuFgXj"
   },
   "source": [
    "Подсчитаем количество обучаемых параметров нашей модели. Используйте метод `numel()`. **(1 балл)**"
   ]
  },
  {
   "cell_type": "code",
   "execution_count": 32,
   "metadata": {
    "colab": {
     "base_uri": "https://localhost:8080/"
    },
    "id": "r3I1u6PnFeMN",
    "outputId": "7b602c8f-3f08-49c1-cce9-e204e8ac1a36"
   },
   "outputs": [
    {
     "name": "stdout",
     "output_type": "stream",
     "text": [
      "The model has 314,263 trainable parameters\n"
     ]
    }
   ],
   "source": [
    "def count_parameters(model):\n",
    "    return sum(p.numel() for p in model.parameters())\n",
    "\n",
    "print(f'The model has {count_parameters(model):,} trainable parameters')"
   ]
  },
  {
   "cell_type": "markdown",
   "metadata": {
    "id": "YzBhHJbIFiF1"
   },
   "source": [
    "Погнали обучать **(2 балла)**"
   ]
  },
  {
   "cell_type": "code",
   "execution_count": 33,
   "metadata": {
    "id": "cAbxHhQPFjeS"
   },
   "outputs": [],
   "source": [
    "from nltk.tag.brill import Word\n",
    "PAD_IDX = TAG.vocab.stoi['<pad>']\n",
    "optimizer = optim.Adam(model.parameters())\n",
    "criterion = nn.CrossEntropyLoss(ignore_index = PAD_IDX)\n",
    "\n",
    "def train(model, iterator, optimizer, criterion, clip, train_history=None, valid_history=None):\n",
    "    model.train()\n",
    "\n",
    "    epoch_loss = 0\n",
    "    history = []\n",
    "    for i, batch in enumerate(iterator):\n",
    "\n",
    "\n",
    "        words = batch.words\n",
    "        tags = batch.tags\n",
    "\n",
    "        optimizer.zero_grad()\n",
    "\n",
    "        output = model(words)\n",
    "\n",
    "        #tags = [sent len, batch size]\n",
    "        #output = [sent len, batch size, output dim]\n",
    "\n",
    "        output = output.view(-1,output.size()[2])\n",
    "        tags = tags.view(-1)\n",
    "\n",
    "        #tags = [sent len * batch size]\n",
    "        #output = [sent len * batch size, output dim]\n",
    "\n",
    "\n",
    "        loss = criterion(output, tags)\n",
    "\n",
    "        loss.backward()\n",
    "\n",
    "        # Gradient clipping(решение проблемы взрыва граденты), clip - максимальная норма вектора\n",
    "        torch.nn.utils.clip_grad_norm_(model.parameters(), max_norm=clip)\n",
    "\n",
    "        optimizer.step()\n",
    "\n",
    "        epoch_loss += loss.item()\n",
    "\n",
    "        history.append(loss.cpu().data.numpy())\n",
    "        if (i+1)%10==0:\n",
    "            fig, ax = plt.subplots(nrows=1, ncols=2, figsize=(12, 8))\n",
    "\n",
    "            clear_output(True)\n",
    "            ax[0].plot(history, label='train loss')\n",
    "            ax[0].set_xlabel('Batch')\n",
    "            ax[0].set_title('Train loss')\n",
    "\n",
    "            if train_history is not None:\n",
    "                ax[1].plot(train_history, label='general train history')\n",
    "                ax[1].set_xlabel('Epoch')\n",
    "            if valid_history is not None:\n",
    "                ax[1].plot(valid_history, label='general valid history')\n",
    "            plt.legend()\n",
    "\n",
    "            plt.show()\n",
    "\n",
    "\n",
    "    return epoch_loss / len(iterator)\n",
    "\n",
    "def evaluate(model, iterator, criterion):\n",
    "    model.eval()\n",
    "\n",
    "    epoch_loss = 0\n",
    "\n",
    "    history = []\n",
    "\n",
    "    with torch.no_grad():\n",
    "\n",
    "        for i, batch in enumerate(iterator):\n",
    "\n",
    "            words = batch.words\n",
    "            tags = batch.tags\n",
    "\n",
    "            output = model(words)\n",
    "\n",
    "            #tags = [sent len, batch size]\n",
    "            #output = [sent len, batch size, output dim]\n",
    "\n",
    "            output = output.view(-1,output.size()[2])\n",
    "            tags = tags.view(-1)\n",
    "\n",
    "            #tags = [sent len * batch size]\n",
    "            #output = [sent len * batch size, output dim]\n",
    "\n",
    "            loss = criterion(output, tags)\n",
    "\n",
    "            epoch_loss += loss.item()\n",
    "\n",
    "    return epoch_loss / len(iterator)\n",
    "\n",
    "def epoch_time(start_time, end_time):\n",
    "    elapsed_time = end_time - start_time\n",
    "    elapsed_mins = int(elapsed_time / 60)\n",
    "    elapsed_secs = int(elapsed_time - (elapsed_mins * 60))\n",
    "    return elapsed_mins, elapsed_secs"
   ]
  },
  {
   "cell_type": "code",
   "execution_count": 34,
   "metadata": {
    "colab": {
     "base_uri": "https://localhost:8080/",
     "height": 784
    },
    "id": "BPsyf7IUFk4g",
    "outputId": "d4cc5201-edde-41e1-8b10-c5db48e0229f"
   },
   "outputs": [
    {
     "data": {
      "image/png": "[encoded data removed]",
      "text/plain": [
       "<Figure size 864x576 with 2 Axes>"
      ]
     },
     "metadata": {
      "needs_background": "light"
     },
     "output_type": "display_data"
    },
    {
     "name": "stdout",
     "output_type": "stream",
     "text": [
      "Epoch: 05 | Time: 0m 41s\n",
      "\tTrain Loss: 0.173 | Train PPL:   1.189\n",
      "\t Val. Loss: 0.163 |  Val. PPL:   1.177\n"
     ]
    }
   ],
   "source": [
    "import time\n",
    "import math\n",
    "import matplotlib\n",
    "matplotlib.rcParams.update({'figure.figsize': (16, 12), 'font.size': 14})\n",
    "import matplotlib.pyplot as plt\n",
    "%matplotlib inline\n",
    "from IPython.display import clear_output\n",
    "\n",
    "train_history = []\n",
    "valid_history = []\n",
    "\n",
    "N_EPOCHS = 5\n",
    "CLIP = 2\n",
    "\n",
    "best_valid_loss = float('inf')\n",
    "\n",
    "for epoch in range(N_EPOCHS):\n",
    "\n",
    "    start_time = time.time()\n",
    "\n",
    "    train_loss = train(model, train_iterator, optimizer, criterion, CLIP, train_history, valid_history)\n",
    "    valid_loss = evaluate(model, valid_iterator, criterion)\n",
    "\n",
    "    end_time = time.time()\n",
    "\n",
    "    epoch_mins, epoch_secs = epoch_time(start_time, end_time)\n",
    "\n",
    "    if valid_loss < best_valid_loss:\n",
    "        best_valid_loss = valid_loss\n",
    "        torch.save(model.state_dict(), 'best-val-model.pt')\n",
    "\n",
    "    train_history.append(train_loss)\n",
    "    valid_history.append(valid_loss)\n",
    "    print(f'Epoch: {epoch+1:02} | Time: {epoch_mins}m {epoch_secs}s')\n",
    "    print(f'\\tTrain Loss: {train_loss:.3f} | Train PPL: {math.exp(train_loss):7.3f}')\n",
    "    print(f'\\t Val. Loss: {valid_loss:.3f} |  Val. PPL: {math.exp(valid_loss):7.3f}')"
   ]
  },
  {
   "cell_type": "markdown",
   "metadata": {
    "id": "OmlLPHb6Fm6Y"
   },
   "source": [
    "### Применение модели\n",
    " **(1 балл)**"
   ]
  },
  {
   "cell_type": "code",
   "execution_count": 38,
   "metadata": {
    "id": "M0VRk8_kFoS-"
   },
   "outputs": [],
   "source": [
    "def accuracy_model(model, iterator):\n",
    "    model.eval()\n",
    "\n",
    "    true_pred = 0\n",
    "    num_pred = 0\n",
    "\n",
    "    with torch.no_grad():\n",
    "        for i, batch in enumerate(iterator):\n",
    "\n",
    "            words = batch.words\n",
    "            tags = batch.tags\n",
    "\n",
    "            output = model(words)\n",
    "\n",
    "            #output = [sent len, batch size, output dim]\n",
    "            # Выбираем для каждого слова индекс тэга с максимальной вероятностью\n",
    "            output = output.argmax(axis=2)\n",
    "\n",
    "            #output = [sent len, batch size]\n",
    "            predict_tags = output.cpu().numpy()\n",
    "            true_tags = tags.cpu().numpy()\n",
    "\n",
    "            true_pred += np.sum((true_tags == predict_tags) & (true_tags != PAD_IDX))\n",
    "            num_pred += np.prod(true_tags.shape) - (true_tags == PAD_IDX).sum()\n",
    "\n",
    "    return round(true_pred / num_pred * 100, 3)"
   ]
  },
  {
   "cell_type": "code",
   "execution_count": 39,
   "metadata": {
    "id": "xq9_6i7nFqAM"
   },
   "outputs": [
    {
     "name": "stdout",
     "output_type": "stream",
     "text": [
      "Accuracy: 94.331 %\n"
     ]
    }
   ],
   "source": [
    "print(\"Accuracy:\", accuracy_model(model, test_iterator), '%')"
   ]
  },
  {
   "cell_type": "markdown",
   "metadata": {
    "id": "8KhMmyBdFrf4"
   },
   "source": [
    "Вы можете улучшить качество, изменяя параметры модели. Вам неоходимо добиться качества не меньше, чем `accuracy = 92 %`."
   ]
  },
  {
   "cell_type": "code",
   "execution_count": 40,
   "metadata": {
    "id": "k78T1TqOFtd5"
   },
   "outputs": [],
   "source": [
    "best_model = LSTMTagger(INPUT_DIM, EMB_DIM, HID_DIM, OUTPUT_DIM, DROPOUT).to(device)\n",
    "best_model.load_state_dict(torch.load('best-val-model.pt'))\n",
    "assert accuracy_model(best_model, test_iterator) >= 92"
   ]
  },
  {
   "cell_type": "markdown",
   "metadata": {
    "id": "vixhQ0YJFs8T"
   },
   "source": [
    "### **Если качество сети меньше 92 процентов, то снимается половина от всех полученных баллов .<br> То есть максимум в этом случае 5 баллов за работу.**\n",
    "\n",
    "\n"
   ]
  },
  {
   "cell_type": "markdown",
   "metadata": {
    "id": "I6yW3ezIFxDi"
   },
   "source": [
    "Пример решение нашей задачи:"
   ]
  },
  {
   "cell_type": "code",
   "execution_count": 41,
   "metadata": {
    "id": "1I8ncP6YFyGR"
   },
   "outputs": [],
   "source": [
    "def print_tags(model, data):\n",
    "    model.eval()\n",
    "\n",
    "    with torch.no_grad():\n",
    "        words, _ = data\n",
    "        example = torch.LongTensor([WORD.vocab.stoi[elem] for elem in words]).unsqueeze(1).to(device)\n",
    "\n",
    "        output = model(example).argmax(dim=-1).cpu().numpy()\n",
    "        tags = [TAG.vocab.itos[int(elem)] for elem in output]\n",
    "\n",
    "        for token, tag in zip(words, tags):\n",
    "            print(f'{token:15s}{tag}')"
   ]
  },
  {
   "cell_type": "code",
   "execution_count": 42,
   "metadata": {
    "id": "ap6kVnKNF0DT"
   },
   "outputs": [
    {
     "name": "stdout",
     "output_type": "stream",
     "text": [
      "From           NOUN\n",
      "what           DET\n",
      "I              NOUN\n",
      "was            VERB\n",
      "able           ADJ\n",
      "to             PRT\n",
      "gauge          NOUN\n",
      "in             ADP\n",
      "a              DET\n",
      "swift          NOUN\n",
      ",              .\n",
      "greedy         ADJ\n",
      "glance         NOUN\n",
      ",              .\n",
      "the            DET\n",
      "figure         NOUN\n",
      "inside         ADP\n",
      "the            DET\n",
      "coral-colored  NOUN\n",
      "boucle         NOUN\n",
      "dress          NOUN\n",
      "was            VERB\n",
      "stupefying     VERB\n",
      ".              .\n"
     ]
    }
   ],
   "source": [
    "print_tags(model, pos_data[-1])"
   ]
  },
  {
   "cell_type": "markdown",
   "metadata": {
    "id": "t-ENYq8LF1h0",
    "tags": []
   },
   "source": [
    "## Вывод:\n",
    "**(0.5 балл)**"
   ]
  },
  {
   "cell_type": "markdown",
   "metadata": {},
   "source": [
    "Ну вообщем модель обучается, 5 эпочей самое то, 94 процента аккуратности тоже норм. Обычные слова думаю предсказывает вообще отлично, а вот непотнятные слова, которые и существительное и предлог видимо так себе. \n",
    "за то что пришлось откатываться на старую версию torchtext отдельное спасибо."
   ]
  },
  {
   "cell_type": "code",
   "execution_count": null,
   "metadata": {},
   "outputs": [],
   "source": []
  }
 ],
 "metadata": {
  "accelerator": "GPU",
  "colab": {
   "gpuType": "T4",
   "provenance": []
  },
  "kernelspec": {
   "display_name": "Python 3 (ipykernel)",
   "language": "python",
   "name": "python3"
  },
  "language_info": {
   "codemirror_mode": {
    "name": "ipython",
    "version": 3
   },
   "file_extension": ".py",
   "mimetype": "text/x-python",
   "name": "python",
   "nbconvert_exporter": "python",
   "pygments_lexer": "ipython3",
   "version": "3.9.6"
  }
 },
 "nbformat": 4,
 "nbformat_minor": 4
}
